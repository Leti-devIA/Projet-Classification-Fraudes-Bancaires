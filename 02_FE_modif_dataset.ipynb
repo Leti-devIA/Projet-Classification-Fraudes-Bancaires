{
 "cells": [
  {
   "cell_type": "code",
   "execution_count": 1,
   "metadata": {},
   "outputs": [],
   "source": [
    "#Importation des bibliothèques\n",
    "import pandas as pd\n"
   ]
  },
  {
   "cell_type": "code",
   "execution_count": 2,
   "metadata": {},
   "outputs": [],
   "source": [
    "#Ouverture du fichier \n",
    "df = pd.read_csv(\"ETL_csv.csv\")\n",
    "\n",
    "#df = df[df['isFraud'] == 1]\n",
    "\n",
    "df.columns = ['id_trans', 'etape', 'type', 'montant', 'id_orig', 'old_solde_exp',\n",
    "              'new_solde_exp', 'id_dest', 'old_solde_dest', 'new_solde_dest',\n",
    "              'fraude']"
   ]
  },
  {
   "cell_type": "code",
   "execution_count": 3,
   "metadata": {},
   "outputs": [
    {
     "name": "stdout",
     "output_type": "stream",
     "text": [
      "Taille du DataFrame à retirer : 555280\n",
      "Taille finale du dataset : 508213\n"
     ]
    }
   ],
   "source": [
    "# Filtrer les types qu'on souhaite retirer\n",
    "types_to_remove = ['CASH_IN', 'DEBIT', 'PAYMENT']\n",
    "\n",
    "# Créer un DataFrame avec uniquement les lignes à retirer\n",
    "df_to_remove = df[df['type'].isin(types_to_remove)]\n",
    "\n",
    "# Vérifiez combien de lignes peuvent être retirées\n",
    "print(f\"Taille du DataFrame à retirer : {df_to_remove.shape[0]}\")\n",
    "\n",
    "# Si le DataFrame à retirer a plus de 500 000 lignes, échantillonnez 500 000 lignes aléatoirement\n",
    "if df_to_remove.shape[0] > 500000:\n",
    "    df_to_remove = df_to_remove.sample(n=500000, random_state=1)  # random_state pour la reproductibilité\n",
    "\n",
    "# Retirer les lignes sélectionnées du DataFrame original\n",
    "df_final = df.drop(df_to_remove.index)\n",
    "\n",
    "# Vérifiez la taille finale du dataset\n",
    "print(f\"Taille finale du dataset : {df_final.shape[0]}\")\n",
    "\n",
    "# Sauvegarder le nouveau dataset\n",
    "df_final.to_csv('dataset_modifie.csv', index=False)  # Remplacez par le chemin de votre fichier de sortie"
   ]
  },
  {
   "cell_type": "code",
   "execution_count": 4,
   "metadata": {},
   "outputs": [
    {
     "data": {
      "text/plain": [
       "fraude\n",
       "0    0.983839\n",
       "1    0.016161\n",
       "Name: proportion, dtype: float64"
      ]
     },
     "execution_count": 4,
     "metadata": {},
     "output_type": "execute_result"
    }
   ],
   "source": [
    "#Distribution des classes \n",
    "df_final['fraude'].value_counts()\n",
    "df_final['fraude'].value_counts(normalize = True)"
   ]
  }
 ],
 "metadata": {
  "kernelspec": {
   "display_name": "Python 3",
   "language": "python",
   "name": "python3"
  },
  "language_info": {
   "codemirror_mode": {
    "name": "ipython",
    "version": 3
   },
   "file_extension": ".py",
   "mimetype": "text/x-python",
   "name": "python",
   "nbconvert_exporter": "python",
   "pygments_lexer": "ipython3",
   "version": "3.13.1"
  }
 },
 "nbformat": 4,
 "nbformat_minor": 2
}
